{
  "cells":[
    {
      "cell_type":"code",
      "source":[
        "import pandas as pd\n",
        "import matplotlib.pyplot as plt\n",
        "import seaborn as sb\n",
        "import numpy as np"
      ],
      "execution_count":1,
      "outputs":[
        
      ],
      "metadata":{
        
      }
    },
    {
      "cell_type":"code",
      "source":[
        "train_data = pd.read_csv('train.csv')\n",
        "train_data.head()"
      ],
      "execution_count":2,
      "outputs":[
        {
          "data":{
            "text\/html":[
              "<div>\n",
              "<style scoped>\n",
              "    .dataframe tbody tr th:only-of-type {\n",
              "        vertical-align: middle;\n",
              "    }\n",
              "\n",
              "    .dataframe tbody tr th {\n",
              "        vertical-align: top;\n",
              "    }\n",
              "\n",
              "    .dataframe thead th {\n",
              "        text-align: right;\n",
              "    }\n",
              "<\/style>\n",
              "<table border=\"1\" class=\"dataframe\">\n",
              "  <thead>\n",
              "    <tr style=\"text-align: right;\">\n",
              "      <th><\/th>\n",
              "      <th>Loan_ID<\/th>\n",
              "      <th>Gender<\/th>\n",
              "      <th>Married<\/th>\n",
              "      <th>Dependents<\/th>\n",
              "      <th>Education<\/th>\n",
              "      <th>Self_Employed<\/th>\n",
              "      <th>ApplicantIncome<\/th>\n",
              "      <th>CoapplicantIncome<\/th>\n",
              "      <th>LoanAmount<\/th>\n",
              "      <th>Loan_Amount_Term<\/th>\n",
              "      <th>Credit_History<\/th>\n",
              "      <th>Property_Area<\/th>\n",
              "      <th>Loan_Status<\/th>\n",
              "    <\/tr>\n",
              "  <\/thead>\n",
              "  <tbody>\n",
              "    <tr>\n",
              "      <th>0<\/th>\n",
              "      <td>LP001002<\/td>\n",
              "      <td>Male<\/td>\n",
              "      <td>No<\/td>\n",
              "      <td>0<\/td>\n",
              "      <td>Graduate<\/td>\n",
              "      <td>No<\/td>\n",
              "      <td>5849<\/td>\n",
              "      <td>0.0<\/td>\n",
              "      <td>NaN<\/td>\n",
              "      <td>360.0<\/td>\n",
              "      <td>1.0<\/td>\n",
              "      <td>Urban<\/td>\n",
              "      <td>Y<\/td>\n",
              "    <\/tr>\n",
              "    <tr>\n",
              "      <th>1<\/th>\n",
              "      <td>LP001003<\/td>\n",
              "      <td>Male<\/td>\n",
              "      <td>Yes<\/td>\n",
              "      <td>1<\/td>\n",
              "      <td>Graduate<\/td>\n",
              "      <td>No<\/td>\n",
              "      <td>4583<\/td>\n",
              "      <td>1508.0<\/td>\n",
              "      <td>128.0<\/td>\n",
              "      <td>360.0<\/td>\n",
              "      <td>1.0<\/td>\n",
              "      <td>Rural<\/td>\n",
              "      <td>N<\/td>\n",
              "    <\/tr>\n",
              "    <tr>\n",
              "      <th>2<\/th>\n",
              "      <td>LP001005<\/td>\n",
              "      <td>Male<\/td>\n",
              "      <td>Yes<\/td>\n",
              "      <td>0<\/td>\n",
              "      <td>Graduate<\/td>\n",
              "      <td>Yes<\/td>\n",
              "      <td>3000<\/td>\n",
              "      <td>0.0<\/td>\n",
              "      <td>66.0<\/td>\n",
              "      <td>360.0<\/td>\n",
              "      <td>1.0<\/td>\n",
              "      <td>Urban<\/td>\n",
              "      <td>Y<\/td>\n",
              "    <\/tr>\n",
              "    <tr>\n",
              "      <th>3<\/th>\n",
              "      <td>LP001006<\/td>\n",
              "      <td>Male<\/td>\n",
              "      <td>Yes<\/td>\n",
              "      <td>0<\/td>\n",
              "      <td>Not Graduate<\/td>\n",
              "      <td>No<\/td>\n",
              "      <td>2583<\/td>\n",
              "      <td>2358.0<\/td>\n",
              "      <td>120.0<\/td>\n",
              "      <td>360.0<\/td>\n",
              "      <td>1.0<\/td>\n",
              "      <td>Urban<\/td>\n",
              "      <td>Y<\/td>\n",
              "    <\/tr>\n",
              "    <tr>\n",
              "      <th>4<\/th>\n",
              "      <td>LP001008<\/td>\n",
              "      <td>Male<\/td>\n",
              "      <td>No<\/td>\n",
              "      <td>0<\/td>\n",
              "      <td>Graduate<\/td>\n",
              "      <td>No<\/td>\n",
              "      <td>6000<\/td>\n",
              "      <td>0.0<\/td>\n",
              "      <td>141.0<\/td>\n",
              "      <td>360.0<\/td>\n",
              "      <td>1.0<\/td>\n",
              "      <td>Urban<\/td>\n",
              "      <td>Y<\/td>\n",
              "    <\/tr>\n",
              "  <\/tbody>\n",
              "<\/table>\n",
              "<\/div>"
            ]
          },
          "metadata":{
            
          },
          "output_type":"display_data"
        }
      ],
      "metadata":{
        
      }
    },
    {
      "cell_type":"code",
      "source":[
        "# train_data.describe()\n",
        "train_data.isnull().any()"
      ],
      "execution_count":3,
      "outputs":[
        {
          "data":{
            "text\/html":[
              
            ]
          },
          "metadata":{
            
          },
          "output_type":"display_data"
        }
      ],
      "metadata":{
        
      }
    },
    {
      "cell_type":"code",
      "source":[
        "train_data.describe()"
      ],
      "execution_count":4,
      "outputs":[
        {
          "data":{
            "text\/html":[
              "<div>\n",
              "<style scoped>\n",
              "    .dataframe tbody tr th:only-of-type {\n",
              "        vertical-align: middle;\n",
              "    }\n",
              "\n",
              "    .dataframe tbody tr th {\n",
              "        vertical-align: top;\n",
              "    }\n",
              "\n",
              "    .dataframe thead th {\n",
              "        text-align: right;\n",
              "    }\n",
              "<\/style>\n",
              "<table border=\"1\" class=\"dataframe\">\n",
              "  <thead>\n",
              "    <tr style=\"text-align: right;\">\n",
              "      <th><\/th>\n",
              "      <th>ApplicantIncome<\/th>\n",
              "      <th>CoapplicantIncome<\/th>\n",
              "      <th>LoanAmount<\/th>\n",
              "      <th>Loan_Amount_Term<\/th>\n",
              "      <th>Credit_History<\/th>\n",
              "    <\/tr>\n",
              "  <\/thead>\n",
              "  <tbody>\n",
              "    <tr>\n",
              "      <th>count<\/th>\n",
              "      <td>614.000000<\/td>\n",
              "      <td>614.000000<\/td>\n",
              "      <td>592.000000<\/td>\n",
              "      <td>600.00000<\/td>\n",
              "      <td>564.000000<\/td>\n",
              "    <\/tr>\n",
              "    <tr>\n",
              "      <th>mean<\/th>\n",
              "      <td>5403.459283<\/td>\n",
              "      <td>1621.245798<\/td>\n",
              "      <td>146.412162<\/td>\n",
              "      <td>342.00000<\/td>\n",
              "      <td>0.842199<\/td>\n",
              "    <\/tr>\n",
              "    <tr>\n",
              "      <th>std<\/th>\n",
              "      <td>6109.041673<\/td>\n",
              "      <td>2926.248369<\/td>\n",
              "      <td>85.587325<\/td>\n",
              "      <td>65.12041<\/td>\n",
              "      <td>0.364878<\/td>\n",
              "    <\/tr>\n",
              "    <tr>\n",
              "      <th>min<\/th>\n",
              "      <td>150.000000<\/td>\n",
              "      <td>0.000000<\/td>\n",
              "      <td>9.000000<\/td>\n",
              "      <td>12.00000<\/td>\n",
              "      <td>0.000000<\/td>\n",
              "    <\/tr>\n",
              "    <tr>\n",
              "      <th>25%<\/th>\n",
              "      <td>2877.500000<\/td>\n",
              "      <td>0.000000<\/td>\n",
              "      <td>100.000000<\/td>\n",
              "      <td>360.00000<\/td>\n",
              "      <td>1.000000<\/td>\n",
              "    <\/tr>\n",
              "    <tr>\n",
              "      <th>50%<\/th>\n",
              "      <td>3812.500000<\/td>\n",
              "      <td>1188.500000<\/td>\n",
              "      <td>128.000000<\/td>\n",
              "      <td>360.00000<\/td>\n",
              "      <td>1.000000<\/td>\n",
              "    <\/tr>\n",
              "    <tr>\n",
              "      <th>75%<\/th>\n",
              "      <td>5795.000000<\/td>\n",
              "      <td>2297.250000<\/td>\n",
              "      <td>168.000000<\/td>\n",
              "      <td>360.00000<\/td>\n",
              "      <td>1.000000<\/td>\n",
              "    <\/tr>\n",
              "    <tr>\n",
              "      <th>max<\/th>\n",
              "      <td>81000.000000<\/td>\n",
              "      <td>41667.000000<\/td>\n",
              "      <td>700.000000<\/td>\n",
              "      <td>480.00000<\/td>\n",
              "      <td>1.000000<\/td>\n",
              "    <\/tr>\n",
              "  <\/tbody>\n",
              "<\/table>\n",
              "<\/div>"
            ]
          },
          "metadata":{
            
          },
          "output_type":"display_data"
        }
      ],
      "metadata":{
        
      }
    },
    {
      "cell_type":"markdown",
      "source":[
        "Categorical columns"
      ],
      "attachments":{
        
      },
      "metadata":{
        
      }
    },
    {
      "cell_type":"code",
      "source":[
        "cat_cols = [col for col in train_data if train_data[col].dtype == 'object']\n",
        "cat_cols"
      ],
      "execution_count":5,
      "outputs":[
        {
          "data":{
            "text\/plain":[
              "['Loan_ID',\n",
              " 'Gender',\n",
              " 'Married',\n",
              " 'Dependents',\n",
              " 'Education',\n",
              " 'Self_Employed',\n",
              " 'Property_Area',\n",
              " 'Loan_Status']"
            ]
          },
          "metadata":{
            
          },
          "output_type":"display_data"
        }
      ],
      "metadata":{
        
      }
    },
    {
      "cell_type":"markdown",
      "source":[
        "Numrical Columns"
      ],
      "attachments":{
        
      },
      "metadata":{
        
      }
    },
    {
      "cell_type":"code",
      "source":[
        "num_cols = train_data.drop(cat_cols, axis=1)\n",
        "num_cols.columns"
      ],
      "execution_count":6,
      "outputs":[
        {
          "data":{
            "text\/plain":[
              "Index(['ApplicantIncome', 'CoapplicantIncome', 'LoanAmount',\n",
              "       'Loan_Amount_Term', 'Credit_History'],\n",
              "      dtype='object')"
            ]
          },
          "metadata":{
            
          },
          "output_type":"display_data"
        }
      ],
      "metadata":{
        
      }
    },
    {
      "cell_type":"markdown",
      "source":[
        "Univariate exploration of categorical columns data"
      ],
      "attachments":{
        
      },
      "metadata":{
        
      }
    },
    {
      "cell_type":"code",
      "source":[
        "def uni_countplot(col):\n",
        "    base_color = sb.color_palette()[0]\n",
        "    sb.countplot(data=train_data, x=col, color=base_color);"
      ],
      "execution_count":7,
      "outputs":[
        
      ],
      "metadata":{
        
      }
    },
    {
      "cell_type":"code",
      "source":[
        "uni_countplot('Gender')"
      ],
      "execution_count":8,
      "outputs":[
        {
          "data":{
            "image\/png":"[encoded data removed]"
          },
          "metadata":{
            "image\/png":{
              
            }
          },
          "output_type":"display_data"
        }
      ],
      "metadata":{
        
      }
    },
    {
      "cell_type":"code",
      "source":[
        "uni_countplot('Married')"
      ],
      "execution_count":9,
      "outputs":[
        {
          "data":{
            "image\/png":"[encoded data removed]"
          },
          "metadata":{
            "image\/png":{
              
            }
          },
          "output_type":"display_data"
        }
      ],
      "metadata":{
        
      }
    },
    {
      "cell_type":"code",
      "source":[
        "uni_countplot('Dependents')"
      ],
      "execution_count":10,
      "outputs":[
        {
          "data":{
            "image\/png":"[encoded data removed]"
          },
          "metadata":{
            "image\/png":{
              
            }
          },
          "output_type":"display_data"
        }
      ],
      "metadata":{
        
      }
    },
    {
      "cell_type":"code",
      "source":[
        "uni_countplot('Education')"
      ],
      "execution_count":11,
      "outputs":[
        {
          "data":{
            "image\/png":"[encoded data removed]"
          },
          "metadata":{
            "image\/png":{
              
            }
          },
          "output_type":"display_data"
        }
      ],
      "metadata":{
        
      }
    },
    {
      "cell_type":"code",
      "source":[
        "uni_countplot('Self_Employed')"
      ],
      "execution_count":12,
      "outputs":[
        {
          "data":{
            "image\/png":"[encoded data removed]"
          },
          "metadata":{
            "image\/png":{
              
            }
          },
          "output_type":"display_data"
        }
      ],
      "metadata":{
        
      }
    },
    {
      "cell_type":"code",
      "source":[
        "uni_countplot('Property_Area')"
      ],
      "execution_count":13,
      "outputs":[
        {
          "data":{
            "image\/png":"[encoded data removed]"
          },
          "metadata":{
            "image\/png":{
              
            }
          },
          "output_type":"display_data"
        }
      ],
      "metadata":{
        
      }
    },
    {
      "cell_type":"markdown",
      "source":[
        "Univariate exploration of numerical columns data"
      ],
      "attachments":{
        
      },
      "metadata":{
        
      }
    },
    {
      "cell_type":"code",
      "source":[
        "def uni_histogram(col):\n",
        "    base_color = sb.color_palette()[0]\n",
        "    sb.histplot(data=train_data, x=col, color=base_color)"
      ],
      "execution_count":14,
      "outputs":[
        
      ],
      "metadata":{
        
      }
    },
    {
      "cell_type":"code",
      "source":[
        "bin_edge = np.arange(0, train_data['ApplicantIncome'].max() + 1000, 1000)\n",
        "uni_histogram('ApplicantIncome')"
      ],
      "execution_count":15,
      "outputs":[
        {
          "data":{
            "image\/png":"[encoded data removed]"
          },
          "metadata":{
            "image\/png":{
              
            }
          },
          "output_type":"display_data"
        }
      ],
      "metadata":{
        
      }
    },
    {
      "cell_type":"code",
      "source":[
        "uni_histogram('CoapplicantIncome')"
      ],
      "execution_count":16,
      "outputs":[
        {
          "data":{
            "image\/png":"[encoded data removed]"
          },
          "metadata":{
            "image\/png":{
              
            }
          },
          "output_type":"display_data"
        }
      ],
      "metadata":{
        
      }
    },
    {
      "cell_type":"code",
      "source":[
        "uni_histogram('LoanAmount')"
      ],
      "execution_count":17,
      "outputs":[
        {
          "data":{
            "image\/png":"[encoded data removed]"
          },
          "metadata":{
            "image\/png":{
              
            }
          },
          "output_type":"display_data"
        }
      ],
      "metadata":{
        
      }
    },
    {
      "cell_type":"code",
      "source":[
        "uni_histogram('Loan_Amount_Term')"
      ],
      "execution_count":18,
      "outputs":[
        {
          "data":{
            "image\/png":"[encoded data removed]"
          },
          "metadata":{
            "image\/png":{
              
            }
          },
          "output_type":"display_data"
        }
      ],
      "metadata":{
        
      }
    },
    {
      "cell_type":"code",
      "source":[
        "uni_histogram('Credit_History')"
      ],
      "execution_count":19,
      "outputs":[
        {
          "data":{
            "image\/png":"[encoded data removed]"
          },
          "metadata":{
            "image\/png":{
              
            }
          },
          "output_type":"display_data"
        }
      ],
      "metadata":{
        
      }
    },
    {
      "cell_type":"code",
      "source":[
        
      ],
      "execution_count":null,
      "outputs":[
        
      ],
      "metadata":{
        
      }
    }
  ],
  "metadata":{
    
  },
  "nbformat":4,
  "nbformat_minor":0
}